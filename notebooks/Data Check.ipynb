{
 "cells": [
  {
   "cell_type": "code",
   "execution_count": 1,
   "id": "24acab74",
   "metadata": {},
   "outputs": [],
   "source": [
    "import sys\n",
    "sys.path.append(\"../\")\n",
    "\n",
    "import warnings\n",
    "warnings.filterwarnings(\"ignore\")\n",
    "from torch.utils.data import DataLoader\n",
    "\n",
    "from dataloaders import data_set,data_dict\n",
    "import pywt\n",
    "\n",
    "import numpy as np"
   ]
  },
  {
   "cell_type": "code",
   "execution_count": null,
   "id": "d07055db",
   "metadata": {},
   "outputs": [],
   "source": [
    "class dotdict(dict):\n",
    "    \"\"\"dot.notation access to dictionary attributes\"\"\"\n",
    "    __getattr__ = dict.get\n",
    "    __setattr__ = dict.__setitem__\n",
    "    __delattr__ = dict.__delitem__\n",
    "\n",
    "args = dotdict()    \n",
    "args.root_path = r\"D:\\TECO\\Paper\\datasets\\PAMAP2_Dataset\\Protocol\"\n",
    "args.freq_save_path = r\"D:\\TECO\\Paper\\Final_version\\Freq_data\"\n",
    "args.data_name = \"pamap2\"\n",
    "\n",
    "args.difference = True \n",
    "args.sampling_freq =   100\n",
    "args.windowsize = int(5.12 * args.sampling_freq)\n",
    "args.train_vali_quote = 0.9\n",
    "\n",
    "\n",
    "# 先改0.5 再改1\n",
    "args.displacement =  int(0.5 * args.windowsize) \n",
    "\n",
    "\n",
    "args.drop_long = False\n",
    "\n",
    "args.datanorm_type = \"standardization\" # None ,\"standardization\", \"minmax\"\n",
    "args.wavename = \"morl\"\n",
    "args.model_type = \"time\"\n",
    "\n",
    "args.exp_mode = \"LOCV\"\n",
    "\n",
    "args.batch_size = 64\n",
    "args.shuffle = True\n",
    "args.drop_last = False\n",
    "dataset = data_dict[args.data_name](args)\n",
    "\n",
    "\n"
   ]
  },
  {
   "cell_type": "code",
   "execution_count": 2,
   "id": "56cfcfad",
   "metadata": {},
   "outputs": [
    {
     "ename": "NameError",
     "evalue": "name 'dataset' is not defined",
     "output_type": "error",
     "traceback": [
      "\u001b[1;31m---------------------------------------------------------------------------\u001b[0m",
      "\u001b[1;31mNameError\u001b[0m                                 Traceback (most recent call last)",
      "\u001b[1;32m<ipython-input-2-a2c13684f548>\u001b[0m in \u001b[0;36m<module>\u001b[1;34m\u001b[0m\n\u001b[1;32m----> 1\u001b[1;33m \u001b[0mprint\u001b[0m\u001b[1;33m(\u001b[0m\u001b[1;34m\"================ {} Mode ====================\"\u001b[0m\u001b[1;33m.\u001b[0m\u001b[0mformat\u001b[0m\u001b[1;33m(\u001b[0m\u001b[0mdataset\u001b[0m\u001b[1;33m.\u001b[0m\u001b[0mexp_mode\u001b[0m\u001b[1;33m)\u001b[0m\u001b[1;33m)\u001b[0m\u001b[1;33m\u001b[0m\u001b[1;33m\u001b[0m\u001b[0m\n\u001b[0m\u001b[0;32m      2\u001b[0m \u001b[0mprint\u001b[0m\u001b[1;33m(\u001b[0m\u001b[1;34m\"================ {} CV ======================\"\u001b[0m\u001b[1;33m.\u001b[0m\u001b[0mformat\u001b[0m\u001b[1;33m(\u001b[0m\u001b[0mdataset\u001b[0m\u001b[1;33m.\u001b[0m\u001b[0mnum_of_cv\u001b[0m\u001b[1;33m)\u001b[0m\u001b[1;33m)\u001b[0m\u001b[1;33m\u001b[0m\u001b[1;33m\u001b[0m\u001b[0m\n\u001b[0;32m      3\u001b[0m \u001b[1;32mfor\u001b[0m \u001b[0mi\u001b[0m \u001b[1;32min\u001b[0m \u001b[0mrange\u001b[0m\u001b[1;33m(\u001b[0m\u001b[0mdataset\u001b[0m\u001b[1;33m.\u001b[0m\u001b[0mnum_of_cv\u001b[0m\u001b[1;33m)\u001b[0m\u001b[1;33m:\u001b[0m\u001b[1;33m\u001b[0m\u001b[1;33m\u001b[0m\u001b[0m\n\u001b[0;32m      4\u001b[0m     \u001b[0mdataset\u001b[0m\u001b[1;33m.\u001b[0m\u001b[0mupdate_train_val_test_keys\u001b[0m\u001b[1;33m(\u001b[0m\u001b[1;33m)\u001b[0m\u001b[1;33m\u001b[0m\u001b[1;33m\u001b[0m\u001b[0m\n\u001b[0;32m      5\u001b[0m     \u001b[0mtrain_data\u001b[0m  \u001b[1;33m=\u001b[0m \u001b[0mdata_set\u001b[0m\u001b[1;33m(\u001b[0m\u001b[0margs\u001b[0m\u001b[1;33m,\u001b[0m\u001b[0mdataset\u001b[0m\u001b[1;33m,\u001b[0m\u001b[1;34m\"train\"\u001b[0m\u001b[1;33m)\u001b[0m\u001b[1;33m\u001b[0m\u001b[1;33m\u001b[0m\u001b[0m\n",
      "\u001b[1;31mNameError\u001b[0m: name 'dataset' is not defined"
     ]
    }
   ],
   "source": [
    "print(\"================ {} Mode ====================\".format(dataset.exp_mode))\n",
    "print(\"================ {} CV ======================\".format(dataset.num_of_cv))\n",
    "for i in range(dataset.num_of_cv):\n",
    "    dataset.update_train_val_test_keys()\n",
    "    train_data  = data_set(args,dataset,\"train\")\n",
    "    test_data  = data_set(args,dataset,\"test\")\n",
    "    vali_data  = data_set(args,dataset,\"vali\")\n",
    "    \n",
    "    \n",
    "        # form the dataloader\n",
    "    train_data_loader = DataLoader(train_data,  \n",
    "                                    batch_size   =  args.batch_size,\n",
    "                                    shuffle      =  args.shuffle,\n",
    "                                    num_workers  =  0,\n",
    "                                    drop_last    =  args.drop_last)\n",
    "\n",
    "    vali_data_loader = DataLoader(vali_data,  \n",
    "                                    batch_size   =  args.batch_size,\n",
    "                                    shuffle      =  args.shuffle,\n",
    "                                    num_workers  =  0,\n",
    "                                    drop_last    =  args.drop_last)\n",
    "\n",
    "    test_data_loader = DataLoader(test_data,  \n",
    "                                    batch_size   =  args.batch_size,\n",
    "                                    shuffle      =  args.shuffle,\n",
    "                                    num_workers  =  0,\n",
    "                                    drop_last    =  args.drop_last)"
   ]
  },
  {
   "cell_type": "code",
   "execution_count": null,
   "id": "4978ed03",
   "metadata": {},
   "outputs": [],
   "source": []
  }
 ],
 "metadata": {
  "kernelspec": {
   "display_name": "Python 3",
   "language": "python",
   "name": "python3"
  },
  "language_info": {
   "codemirror_mode": {
    "name": "ipython",
    "version": 3
   },
   "file_extension": ".py",
   "mimetype": "text/x-python",
   "name": "python",
   "nbconvert_exporter": "python",
   "pygments_lexer": "ipython3",
   "version": "3.8.8"
  },
  "toc": {
   "base_numbering": 1,
   "nav_menu": {},
   "number_sections": true,
   "sideBar": true,
   "skip_h1_title": false,
   "title_cell": "Table of Contents",
   "title_sidebar": "Contents",
   "toc_cell": false,
   "toc_position": {},
   "toc_section_display": true,
   "toc_window_display": false
  }
 },
 "nbformat": 4,
 "nbformat_minor": 5
}
