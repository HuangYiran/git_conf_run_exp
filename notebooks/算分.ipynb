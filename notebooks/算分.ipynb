{
 "cells": [
  {
   "cell_type": "code",
   "execution_count": 1,
   "id": "854fc0a1",
   "metadata": {},
   "outputs": [],
   "source": [
    "import numpy as np"
   ]
  },
  {
   "cell_type": "markdown",
   "id": "0623792a",
   "metadata": {},
   "source": [
    "# Given"
   ]
  },
  {
   "cell_type": "markdown",
   "id": "d7d54fbd",
   "metadata": {},
   "source": [
    "## DeepConvLSTM"
   ]
  },
  {
   "cell_type": "markdown",
   "id": "869dce7e",
   "metadata": {},
   "source": [
    "### PAMAP2"
   ]
  },
  {
   "cell_type": "code",
   "execution_count": 3,
   "id": "c7787def",
   "metadata": {},
   "outputs": [
    {
     "name": "stdout",
     "output_type": "stream",
     "text": [
      " MEAN of Macro :  78.16344600000001\n",
      " STD of Macro :  0.8617755058389613\n",
      " MEAN of Weighted :  85.773458\n",
      " STD of Weighted :  0.9511233754334929\n"
     ]
    }
   ],
   "source": [
    "f_w = [0.8420067, 0.8661685, 0.8665117, 0.8622695, 0.8517165]\n",
    "f_w_mean = np.mean(f_w)* 100\n",
    "f_w_std = np.std(f_w)* 100\n",
    "\n",
    "\n",
    "f_m = [0.7666711, 0.7894063, 0.7890047 , 0.7855879 , 0.7775023    ]\n",
    "f_m_mean = np.mean(f_m)* 100\n",
    "f_m_std = np.std(f_m)* 100\n",
    "\n",
    "print(\" MEAN of Macro : \", f_m_mean)\n",
    "print(\" STD of Macro : \", f_m_std)\n",
    "\n",
    "print(\" MEAN of Weighted : \", f_w_mean)\n",
    "print(\" STD of Weighted : \", f_w_std)\n",
    "\n"
   ]
  },
  {
   "cell_type": "markdown",
   "id": "7969ee9f",
   "metadata": {},
   "source": [
    "### Oppo"
   ]
  },
  {
   "cell_type": "code",
   "execution_count": 6,
   "id": "57c4e819",
   "metadata": {},
   "outputs": [
    {
     "name": "stdout",
     "output_type": "stream",
     "text": [
      " MEAN of Macro :  40.948965\n",
      " STD of Macro :  2.7441785624041195\n",
      " MEAN of Weighted :  87.84105000000001\n",
      " STD of Weighted :  0.7789305919656773\n"
     ]
    }
   ],
   "source": [
    "f_w = [0.8706470, 0.8853913,  0.8852015, 0.8814523, 0.8827937,0.8649772]\n",
    "f_w_mean = np.mean(f_w)* 100\n",
    "f_w_std = np.std(f_w)* 100\n",
    "\n",
    "\n",
    "f_m = [0.3704027 ,0.4257880 , 0.4221807,0.4271476 ,0.4390519   , 0.3723670 ]\n",
    "f_m_mean = np.mean(f_m)* 100\n",
    "f_m_std = np.std(f_m)* 100\n",
    "\n",
    "print(\" MEAN of Macro : \", f_m_mean)\n",
    "print(\" STD of Macro : \", f_m_std)\n",
    "\n",
    "print(\" MEAN of Weighted : \", f_w_mean)\n",
    "print(\" STD of Weighted : \", f_w_std)\n"
   ]
  },
  {
   "cell_type": "markdown",
   "id": "6c39a193",
   "metadata": {},
   "source": [
    "### UCI HAR"
   ]
  },
  {
   "cell_type": "code",
   "execution_count": 4,
   "id": "3b9f564b",
   "metadata": {},
   "outputs": [
    {
     "name": "stdout",
     "output_type": "stream",
     "text": [
      " MEAN of Macro :  88.937235\n",
      " STD of Macro :  0.3487102342800801\n",
      " MEAN of Weighted :  88.97642999999998\n",
      " STD of Weighted :  0.34762674129972604\n"
     ]
    }
   ],
   "source": [
    "f_w = [0.8824027,0.8925192, 0.8895731, 0.8921886,0.8919494, 0.8899528]\n",
    "f_w_mean = np.mean(f_w)* 100\n",
    "f_w_std = np.std(f_w)* 100\n",
    "\n",
    "\n",
    "f_m = [0.8819463  , 0.8920930, 0.8891061,0.8915954 ,0.8916469, 0.8898464  ]\n",
    "f_m_mean = np.mean(f_m)* 100\n",
    "f_m_std = np.std(f_m)* 100\n",
    "\n",
    "print(\" MEAN of Macro : \", f_m_mean)\n",
    "print(\" STD of Macro : \", f_m_std)\n",
    "\n",
    "print(\" MEAN of Weighted : \", f_w_mean)\n",
    "print(\" STD of Weighted : \", f_w_std)\n"
   ]
  },
  {
   "cell_type": "markdown",
   "id": "02e6c9fb",
   "metadata": {},
   "source": [
    "### MotionSense"
   ]
  },
  {
   "cell_type": "code",
   "execution_count": 5,
   "id": "1005338c",
   "metadata": {},
   "outputs": [
    {
     "name": "stdout",
     "output_type": "stream",
     "text": [
      " MEAN of Macro :  91.93446599999999\n",
      " STD of Macro :  1.3750165033860513\n",
      " MEAN of Weighted :  95.19924000000002\n",
      " STD of Weighted :  0.7908619228158615\n"
     ]
    }
   ],
   "source": [
    "f_w = [0.9367308, 0.9518096, 0.9575626, 0.9568826, 0.9569764]\n",
    "f_w_mean = np.mean(f_w)* 100\n",
    "f_w_std = np.std(f_w)* 100\n",
    "\n",
    "\n",
    "f_m = [0.8928031 ,0.9190266, 0.9286299, 0.9278725 , 0.9283912  ]\n",
    "f_m_mean = np.mean(f_m)* 100\n",
    "f_m_std = np.std(f_m)* 100\n",
    "\n",
    "print(\" MEAN of Macro : \", f_m_mean)\n",
    "print(\" STD of Macro : \", f_m_std)\n",
    "\n",
    "print(\" MEAN of Weighted : \", f_w_mean)\n",
    "print(\" STD of Weighted : \", f_w_std)\n",
    "\n"
   ]
  },
  {
   "cell_type": "markdown",
   "id": "9fce973b",
   "metadata": {},
   "source": [
    "### USC-HAD"
   ]
  },
  {
   "cell_type": "code",
   "execution_count": 6,
   "id": "85bf8f90",
   "metadata": {},
   "outputs": [
    {
     "name": "stdout",
     "output_type": "stream",
     "text": [
      " MEAN of Macro :  45.714034000000005\n",
      " STD of Macro :  1.0788068236454558\n",
      " MEAN of Weighted :  53.400141999999995\n",
      " STD of Weighted :  1.6966041385709254\n"
     ]
    }
   ],
   "source": [
    "f_w = [0.5080265,0.5563456,0.5241333,0.5345547,0.5469470 ]\n",
    "f_w_mean = np.mean(f_w)* 100\n",
    "f_w_std = np.std(f_w)* 100\n",
    "\n",
    "\n",
    "f_m = [0.4405066 ,0.4711315 ,0.4515343, 0.4565726, 0.4659567  ]\n",
    "f_m_mean = np.mean(f_m)* 100\n",
    "f_m_std = np.std(f_m)* 100\n",
    "\n",
    "print(\" MEAN of Macro : \", f_m_mean)\n",
    "print(\" STD of Macro : \", f_m_std)\n",
    "\n",
    "print(\" MEAN of Weighted : \", f_w_mean)\n",
    "print(\" STD of Weighted : \", f_w_std)\n",
    "\n"
   ]
  },
  {
   "cell_type": "markdown",
   "id": "2ac98f4f",
   "metadata": {},
   "source": [
    "### Daphnet"
   ]
  },
  {
   "cell_type": "code",
   "execution_count": 7,
   "id": "e6fedc2c",
   "metadata": {},
   "outputs": [
    {
     "name": "stdout",
     "output_type": "stream",
     "text": [
      " MEAN of Macro :  47.351065\n",
      " STD of Macro :  0.5068249999999996\n",
      " MEAN of Weighted :  85.207805\n",
      " STD of Weighted :  2.6435550000000028\n"
     ]
    }
   ],
   "source": [
    "f_w = [0.8785136, 0.8785136,0.8256425,0.8256425]\n",
    "f_w_mean = np.mean(f_w)* 100\n",
    "f_w_std = np.std(f_w)* 100\n",
    "\n",
    "\n",
    "f_m = [0.4785789, 0.4785789  ,0.4684424 ,0.4684424  ]\n",
    "f_m_mean = np.mean(f_m)* 100\n",
    "f_m_std = np.std(f_m)* 100\n",
    "\n",
    "print(\" MEAN of Macro : \", f_m_mean)\n",
    "print(\" STD of Macro : \", f_m_std)\n",
    "\n",
    "print(\" MEAN of Weighted : \", f_w_mean)\n",
    "print(\" STD of Weighted : \", f_w_std)\n",
    "\n"
   ]
  },
  {
   "cell_type": "markdown",
   "id": "c4c14ddb",
   "metadata": {},
   "source": [
    "## DeepConvLSTM + ATTN"
   ]
  },
  {
   "cell_type": "markdown",
   "id": "de03858a",
   "metadata": {},
   "source": [
    "### PAMAP2"
   ]
  },
  {
   "cell_type": "code",
   "execution_count": 10,
   "id": "8d2843b7",
   "metadata": {},
   "outputs": [
    {
     "name": "stdout",
     "output_type": "stream",
     "text": [
      " MEAN of Weighted :  90.21554666666665\n",
      " STD of Weighted :  1.229918638375004\n",
      " MEAN of Macro :  82.55278666666666\n",
      " STD of Macro :  1.0681992873939254\n"
     ]
    }
   ],
   "source": [
    "f_w = [0.8915230,0.9173593, 0.9018427, 0.9186200, 0.8980193, 0.8855685]\n",
    "f_w_mean = np.mean(f_w)* 100\n",
    "f_w_std = np.std(f_w)* 100\n",
    "\n",
    "\n",
    "f_m = [0.8158732 , 0.8364587, 0.8273897 , 0.8411256, 0.8211432 ,0.8111768 ]\n",
    "f_m_mean = np.mean(f_m)* 100\n",
    "f_m_std = np.std(f_m)* 100\n",
    "\n",
    "print(\" MEAN of Weighted : \", f_w_mean)\n",
    "print(\" STD of Weighted : \", f_w_std)\n",
    "\n",
    "print(\" MEAN of Macro : \", f_m_mean)\n",
    "print(\" STD of Macro : \", f_m_std)"
   ]
  },
  {
   "cell_type": "markdown",
   "id": "11f4fabe",
   "metadata": {},
   "source": [
    "### Oppo"
   ]
  },
  {
   "cell_type": "code",
   "execution_count": 11,
   "id": "4f9a7d4f",
   "metadata": {},
   "outputs": [
    {
     "name": "stdout",
     "output_type": "stream",
     "text": [
      " MEAN of Weighted :  89.6786125\n",
      " STD of Weighted :  0.6197129339208216\n",
      " MEAN of Macro :  49.643065\n",
      " STD of Macro :  3.0295116246476104\n"
     ]
    }
   ],
   "source": [
    "f_w = [0.8933056, 0.9072402,  0.8913118,  0.8952869]\n",
    "f_w_mean = np.mean(f_w)* 100\n",
    "f_w_std = np.std(f_w)* 100\n",
    "\n",
    "\n",
    "f_m = [0.4697727,0.5473441  ,0.4782125 ,0.4903933  ]\n",
    "f_m_mean = np.mean(f_m)* 100\n",
    "f_m_std = np.std(f_m)* 100\n",
    "\n",
    "print(\" MEAN of Weighted : \", f_w_mean)\n",
    "print(\" STD of Weighted : \", f_w_std)\n",
    "\n",
    "print(\" MEAN of Macro : \", f_m_mean)\n",
    "print(\" STD of Macro : \", f_m_std)"
   ]
  },
  {
   "cell_type": "markdown",
   "id": "b5650b4b",
   "metadata": {},
   "source": [
    "### UCI HAR"
   ]
  },
  {
   "cell_type": "code",
   "execution_count": 12,
   "id": "252cca28",
   "metadata": {},
   "outputs": [
    {
     "name": "stdout",
     "output_type": "stream",
     "text": [
      " MEAN of Weighted :  93.27962000000001\n",
      " STD of Weighted :  0.8385859909395085\n",
      " MEAN of Macro :  93.402495\n",
      " STD of Macro :  0.8236454925057267\n"
     ]
    }
   ],
   "source": [
    "f_w = [0.9269810 , 0.9472832, 0.9284804, 0.9284402]\n",
    "f_w_mean = np.mean(f_w)* 100\n",
    "f_w_std = np.std(f_w)* 100\n",
    "\n",
    "\n",
    "f_m = [0.9285036 ,0.9482614, 0.9299979 ,  0.9293369 ]\n",
    "f_m_mean = np.mean(f_m)* 100\n",
    "f_m_std = np.std(f_m)* 100\n",
    "\n",
    "print(\" MEAN of Weighted : \", f_w_mean)\n",
    "print(\" STD of Weighted : \", f_w_std)\n",
    "\n",
    "print(\" MEAN of Macro : \", f_m_mean)\n",
    "print(\" STD of Macro : \", f_m_std)"
   ]
  },
  {
   "cell_type": "markdown",
   "id": "c99306a6",
   "metadata": {},
   "source": [
    "### MotionSense"
   ]
  },
  {
   "cell_type": "code",
   "execution_count": 13,
   "id": "29ed7f73",
   "metadata": {},
   "outputs": [
    {
     "name": "stdout",
     "output_type": "stream",
     "text": [
      " MEAN of Weighted :  96.83457399999999\n",
      " STD of Weighted :  0.22992927787474174\n",
      " MEAN of Macro :  94.77189800000001\n",
      " STD of Macro :  0.4224208727039889\n"
     ]
    }
   ],
   "source": [
    "f_w = [0.9699889, 0.9718910, 0.9657882,0.9662677,0.9677929]\n",
    "f_w_mean = np.mean(f_w)* 100\n",
    "f_w_std = np.std(f_w)* 100\n",
    "\n",
    "\n",
    "f_m = [0.9507961, 0.9544395, 0.9435109,0.9441317 ,0.9457167  ]\n",
    "f_m_mean = np.mean(f_m)* 100\n",
    "f_m_std = np.std(f_m)* 100\n",
    "\n",
    "print(\" MEAN of Weighted : \", f_w_mean)\n",
    "print(\" STD of Weighted : \", f_w_std)\n",
    "\n",
    "print(\" MEAN of Macro : \", f_m_mean)\n",
    "print(\" STD of Macro : \", f_m_std)"
   ]
  },
  {
   "cell_type": "markdown",
   "id": "9fce973b",
   "metadata": {},
   "source": [
    "### USC-HAD"
   ]
  },
  {
   "cell_type": "code",
   "execution_count": 15,
   "id": "c7901191",
   "metadata": {},
   "outputs": [
    {
     "name": "stdout",
     "output_type": "stream",
     "text": [
      " MEAN of Weighted :  60.33145857142858\n",
      " STD of Weighted :  2.2036403759910446\n",
      " MEAN of Macro :  54.291738571428574\n",
      " STD of Macro :  2.160613577352695\n"
     ]
    }
   ],
   "source": [
    "f_w = [0.5820096, 0.6163552, 0.6071567, 0.6141212, 0.6322394, 0.5613320, 0.6099880]\n",
    "f_w_mean = np.mean(f_w)* 100\n",
    "f_w_std = np.std(f_w)* 100\n",
    "\n",
    "\n",
    "f_m = [0.5003436, 0.5495189, 0.5465666 , 0.5589135, 0.5700569 , 0.5243303, 0.5506919]\n",
    "f_m_mean = np.mean(f_m)* 100\n",
    "f_m_std = np.std(f_m)* 100\n",
    "\n",
    "print(\" MEAN of Weighted : \", f_w_mean)\n",
    "print(\" STD of Weighted : \", f_w_std)\n",
    "\n",
    "print(\" MEAN of Macro : \", f_m_mean)\n",
    "print(\" STD of Macro : \", f_m_std)"
   ]
  },
  {
   "cell_type": "markdown",
   "id": "2ac98f4f",
   "metadata": {},
   "source": [
    "### Daphnet"
   ]
  },
  {
   "cell_type": "code",
   "execution_count": 14,
   "id": "44788c33",
   "metadata": {},
   "outputs": [
    {
     "name": "stdout",
     "output_type": "stream",
     "text": [
      " MEAN of Weighted :  82.52675166666667\n",
      " STD of Weighted :  0.24825177323412592\n",
      " MEAN of Macro :  47.231343333333335\n",
      " STD of Macro :  0.5181050083289644\n"
     ]
    }
   ],
   "source": [
    "f_w = [0.8254616, 0.8256425 ,  0.8256425, 0.8202156, 0.8261597, 0.8284832]\n",
    "f_w_mean = np.mean(f_w)* 100\n",
    "f_w_std = np.std(f_w)* 100\n",
    "\n",
    "\n",
    "f_m = [0.4683398, 0.4684424 , 0.4684424 , 0.4745196, 0.4713578,0.4827786 ]\n",
    "f_m_mean = np.mean(f_m)* 100\n",
    "f_m_std = np.std(f_m)* 100\n",
    "\n",
    "print(\" MEAN of Weighted : \", f_w_mean)\n",
    "print(\" STD of Weighted : \", f_w_std)\n",
    "\n",
    "print(\" MEAN of Macro : \", f_m_mean)\n",
    "print(\" STD of Macro : \", f_m_std)"
   ]
  },
  {
   "cell_type": "markdown",
   "id": "5ddab355",
   "metadata": {},
   "source": [
    "## SAHAR"
   ]
  },
  {
   "cell_type": "markdown",
   "id": "869dce7e",
   "metadata": {},
   "source": [
    "### PAMAP2"
   ]
  },
  {
   "cell_type": "code",
   "execution_count": null,
   "id": "b22b976a",
   "metadata": {},
   "outputs": [],
   "source": [
    "f_w = [ 0.8581539,]\n",
    "f_w_mean = np.mean(f_w)* 100\n",
    "f_w_std = np.std(f_w)* 100\n",
    "\n",
    "\n",
    "f_m = [0.8577742 ]\n",
    "f_m_mean = np.mean(f_m)* 100\n",
    "f_m_std = np.std(f_m)* 100\n",
    "\n",
    "print(\" MEAN of Macro : \", f_m_mean)\n",
    "print(\" STD of Macro : \", f_m_std)\n",
    "\n",
    "print(\" MEAN of Weighted : \", f_w_mean)\n",
    "print(\" STD of Weighted : \", f_w_std)\n",
    "\n"
   ]
  },
  {
   "cell_type": "markdown",
   "id": "7969ee9f",
   "metadata": {},
   "source": [
    "### Oppo"
   ]
  },
  {
   "cell_type": "code",
   "execution_count": 13,
   "id": "88ff73aa",
   "metadata": {},
   "outputs": [
    {
     "name": "stdout",
     "output_type": "stream",
     "text": [
      " MEAN of Macro :  63.05829666666667\n",
      " STD of Macro :  3.0688948453220815\n",
      " MEAN of Weighted :  91.96828666666667\n",
      " STD of Weighted :  0.8060355383535457\n"
     ]
    }
   ],
   "source": [
    "f_w = [0.9178076, 0.9074665,0.9332277,0.9296869, 0.9202278,0.9098605,0.9253958 ,0.9158285 ,0.9176445]\n",
    "f_w_mean = np.mean(f_w)* 100\n",
    "f_w_std = np.std(f_w)* 100\n",
    "\n",
    "\n",
    "f_m = [0.6346906 ,0.5735127, 0.6788392,0.6550872 ,0.6391338 ,0.5972710 ,0.6515882,0.6064282,0.6386958  ]\n",
    "f_m_mean = np.mean(f_m)* 100\n",
    "f_m_std = np.std(f_m)* 100\n",
    "\n",
    "print(\" MEAN of Macro : \", f_m_mean)\n",
    "print(\" STD of Macro : \", f_m_std)\n",
    "\n",
    "print(\" MEAN of Weighted : \", f_w_mean)\n",
    "print(\" STD of Weighted : \", f_w_std)\n",
    "\n"
   ]
  },
  {
   "cell_type": "markdown",
   "id": "6c39a193",
   "metadata": {},
   "source": [
    "### UCI HAR"
   ]
  },
  {
   "cell_type": "code",
   "execution_count": 14,
   "id": "aa6c7cb8",
   "metadata": {},
   "outputs": [
    {
     "name": "stdout",
     "output_type": "stream",
     "text": [
      " MEAN of Macro :  89.36089666666666\n",
      " STD of Macro :  0.6799184363501896\n",
      " MEAN of Weighted :  89.28498666666668\n",
      " STD of Weighted :  0.6654035819126778\n"
     ]
    }
   ],
   "source": [
    "f_w = [0.8874544,0.8888707 ,0.9022245 ]\n",
    "f_w_mean = np.mean(f_w)* 100\n",
    "f_w_std = np.std(f_w)* 100\n",
    "\n",
    "\n",
    "f_m = [0.8884705,0.8891397,0.9032167  ]\n",
    "f_m_mean = np.mean(f_m)* 100\n",
    "f_m_std = np.std(f_m)* 100\n",
    "\n",
    "print(\" MEAN of Macro : \", f_m_mean)\n",
    "print(\" STD of Macro : \", f_m_std)\n",
    "\n",
    "print(\" MEAN of Weighted : \", f_w_mean)\n",
    "print(\" STD of Weighted : \", f_w_std)\n",
    "\n"
   ]
  },
  {
   "cell_type": "markdown",
   "id": "02e6c9fb",
   "metadata": {},
   "source": [
    "### MotionSense"
   ]
  },
  {
   "cell_type": "code",
   "execution_count": 15,
   "id": "658194a8",
   "metadata": {},
   "outputs": [
    {
     "name": "stdout",
     "output_type": "stream",
     "text": [
      " MEAN of Macro :  93.57569666666666\n",
      " STD of Macro :  1.573139490209166\n",
      " MEAN of Weighted :  95.66484333333332\n",
      " STD of Weighted :  0.7428489574753571\n"
     ]
    }
   ],
   "source": [
    "f_w = [0.9697462,0.9616050 ,0.9514235,0.9490042,0.9498251,0.9582866 ]\n",
    "f_w_mean = np.mean(f_w)* 100\n",
    "f_w_std = np.std(f_w)* 100\n",
    "\n",
    "\n",
    "f_m = [0.9573905,0.9549513, 0.9229719  ,0.9171437 ,0.9241844,0.9379000  ]\n",
    "f_m_mean = np.mean(f_m)* 100\n",
    "f_m_std = np.std(f_m)* 100\n",
    "\n",
    "print(\" MEAN of Macro : \", f_m_mean)\n",
    "print(\" STD of Macro : \", f_m_std)\n",
    "\n",
    "print(\" MEAN of Weighted : \", f_w_mean)\n",
    "print(\" STD of Weighted : \", f_w_std)\n",
    "\n"
   ]
  },
  {
   "cell_type": "markdown",
   "id": "9fce973b",
   "metadata": {},
   "source": [
    "### USC-HAD"
   ]
  },
  {
   "cell_type": "code",
   "execution_count": 16,
   "id": "0cbad19d",
   "metadata": {},
   "outputs": [
    {
     "name": "stdout",
     "output_type": "stream",
     "text": [
      " MEAN of Macro :  54.499664\n",
      " STD of Macro :  1.249352551117579\n",
      " MEAN of Weighted :  63.18328400000001\n",
      " STD of Weighted :  2.928403098199429\n"
     ]
    }
   ],
   "source": [
    "f_w = [0.5739825, 0.6532544,0.6438662,0.6484947,0.6395664]\n",
    "f_w_mean = np.mean(f_w)* 100\n",
    "f_w_std = np.std(f_w)* 100\n",
    "\n",
    "\n",
    "f_m = [0.5233874, 0.5486826, 0.5557203 ,0.5575122 ,0.5396807 ]\n",
    "f_m_mean = np.mean(f_m)* 100\n",
    "f_m_std = np.std(f_m)* 100\n",
    "\n",
    "print(\" MEAN of Macro : \", f_m_mean)\n",
    "print(\" STD of Macro : \", f_m_std)\n",
    "\n",
    "print(\" MEAN of Weighted : \", f_w_mean)\n",
    "print(\" STD of Weighted : \", f_w_std)\n",
    "\n"
   ]
  },
  {
   "cell_type": "markdown",
   "id": "2ac98f4f",
   "metadata": {},
   "source": [
    "### Daphnet"
   ]
  },
  {
   "cell_type": "code",
   "execution_count": 17,
   "id": "56483972",
   "metadata": {},
   "outputs": [
    {
     "name": "stdout",
     "output_type": "stream",
     "text": [
      " MEAN of Macro :  46.84424\n",
      " STD of Macro :  0.0\n",
      " MEAN of Weighted :  82.56425\n",
      " STD of Weighted :  0.0\n"
     ]
    }
   ],
   "source": [
    "f_w = [ 0.8256425,0.8256425 ]\n",
    "f_w_mean = np.mean(f_w)* 100\n",
    "f_w_std = np.std(f_w)* 100\n",
    "\n",
    "\n",
    "f_m = [0.4684424,0.4684424   ]\n",
    "f_m_mean = np.mean(f_m)* 100\n",
    "f_m_std = np.std(f_m)* 100\n",
    "\n",
    "print(\" MEAN of Macro : \", f_m_mean)\n",
    "print(\" STD of Macro : \", f_m_std)\n",
    "\n",
    "print(\" MEAN of Weighted : \", f_w_mean)\n",
    "print(\" STD of Weighted : \", f_w_std)\n",
    "\n"
   ]
  },
  {
   "cell_type": "markdown",
   "id": "814d937d",
   "metadata": {},
   "source": [
    "## MRCA"
   ]
  },
  {
   "cell_type": "markdown",
   "id": "869dce7e",
   "metadata": {},
   "source": [
    "### PAMAP2"
   ]
  },
  {
   "cell_type": "code",
   "execution_count": 22,
   "id": "9704ebe9",
   "metadata": {},
   "outputs": [
    {
     "name": "stdout",
     "output_type": "stream",
     "text": [
      " MEAN of Macro :  90.86098285714286\n",
      " STD of Macro :  2.3136571944417006\n",
      " MEAN of Weighted :  92.27327\n",
      " STD of Weighted :  0.7192101798103643\n"
     ]
    }
   ],
   "source": [
    "f_w = [0.9240450, 0.9168509, 0.9291857,0.9131578,0.9330406, 0.9278576, 0.9149913]\n",
    "f_w_mean = np.mean(f_w)* 100\n",
    "f_w_std = np.std(f_w)* 100\n",
    "\n",
    "\n",
    "f_m = [0.9231874, 0.9100102,0.9226425,0.9120032  ,0.8533282,0.9233457 ,0.9157516  ]\n",
    "f_m_mean = np.mean(f_m)* 100\n",
    "f_m_std = np.std(f_m)* 100\n",
    "\n",
    "print(\" MEAN of Macro : \", f_m_mean)\n",
    "print(\" STD of Macro : \", f_m_std)\n",
    "\n",
    "print(\" MEAN of Weighted : \", f_w_mean)\n",
    "print(\" STD of Weighted : \", f_w_std)\n",
    "\n"
   ]
  },
  {
   "cell_type": "markdown",
   "id": "7969ee9f",
   "metadata": {},
   "source": [
    "### Oppo"
   ]
  },
  {
   "cell_type": "code",
   "execution_count": 23,
   "id": "02bcf161",
   "metadata": {},
   "outputs": [
    {
     "name": "stdout",
     "output_type": "stream",
     "text": [
      " MEAN of Macro :  69.00738999999999\n",
      " STD of Macro :  1.8649202683135444\n",
      " MEAN of Weighted :  93.169425\n",
      " STD of Weighted :  0.3031043691948367\n"
     ]
    }
   ],
   "source": [
    "f_w = [0.9341480,0.9262458 ,0.9342905,0.9289269,0.9332181 ,0.9333362]\n",
    "f_w_mean = np.mean(f_w)* 100\n",
    "f_w_std = np.std(f_w)* 100\n",
    "\n",
    "\n",
    "f_m = [0.6968553,0.6555857,0.7011407,0.6829465 ,0.6878932   ,0.7160220 ]\n",
    "f_m_mean = np.mean(f_m)* 100\n",
    "f_m_std = np.std(f_m)* 100\n",
    "\n",
    "print(\" MEAN of Macro : \", f_m_mean)\n",
    "print(\" STD of Macro : \", f_m_std)\n",
    "\n",
    "print(\" MEAN of Weighted : \", f_w_mean)\n",
    "print(\" STD of Weighted : \", f_w_std)\n",
    "\n"
   ]
  },
  {
   "cell_type": "markdown",
   "id": "6c39a193",
   "metadata": {},
   "source": [
    "### UCI HAR"
   ]
  },
  {
   "cell_type": "code",
   "execution_count": 21,
   "id": "912d1fc0",
   "metadata": {},
   "outputs": [
    {
     "name": "stdout",
     "output_type": "stream",
     "text": [
      " MEAN of Macro :  95.312992\n",
      " STD of Macro :  0.20617284461344437\n",
      " MEAN of Weighted :  95.29756200000001\n",
      " STD of Weighted :  0.20942083749235432\n"
     ]
    }
   ],
   "source": [
    "f_w = [0.9514263 ,0.9505360, 0.9534250,0.9566309,0.9528599]\n",
    "f_w_mean = np.mean(f_w)* 100\n",
    "f_w_std = np.std(f_w)* 100\n",
    "\n",
    "\n",
    "f_m = [ 0.9518086, 0.9508436 ,0.9537354 ,0.9567998,0.9524622  ]\n",
    "f_m_mean = np.mean(f_m)* 100\n",
    "f_m_std = np.std(f_m)* 100\n",
    "\n",
    "print(\" MEAN of Macro : \", f_m_mean)\n",
    "print(\" STD of Macro : \", f_m_std)\n",
    "\n",
    "print(\" MEAN of Weighted : \", f_w_mean)\n",
    "print(\" STD of Weighted : \", f_w_std)\n",
    "\n"
   ]
  },
  {
   "cell_type": "markdown",
   "id": "02e6c9fb",
   "metadata": {},
   "source": [
    "### MotionSense"
   ]
  },
  {
   "cell_type": "code",
   "execution_count": 20,
   "id": "1e897b30",
   "metadata": {},
   "outputs": [
    {
     "name": "stdout",
     "output_type": "stream",
     "text": [
      " MEAN of Macro :  94.961982\n",
      " STD of Macro :  0.33234597619950046\n",
      " MEAN of Weighted :  96.87707599999999\n",
      " STD of Weighted :  0.41691835347463685\n"
     ]
    }
   ],
   "source": [
    "f_w = [0.9607176,0.9690132,0.9723576,0.9712085,0.9705569]\n",
    "f_w_mean = np.mean(f_w)* 100\n",
    "f_w_std = np.std(f_w)* 100\n",
    "\n",
    "\n",
    "f_m = [0.9447311,0.9483323,0.9529096, 0.9537724,0.9483537   ]\n",
    "f_m_mean = np.mean(f_m)* 100\n",
    "f_m_std = np.std(f_m)* 100\n",
    "\n",
    "print(\" MEAN of Macro : \", f_m_mean)\n",
    "print(\" STD of Macro : \", f_m_std)\n",
    "\n",
    "print(\" MEAN of Weighted : \", f_w_mean)\n",
    "print(\" STD of Weighted : \", f_w_std)\n",
    "\n"
   ]
  },
  {
   "cell_type": "markdown",
   "id": "9fce973b",
   "metadata": {},
   "source": [
    "### USC-HAD"
   ]
  },
  {
   "cell_type": "code",
   "execution_count": 19,
   "id": "319f5dbc",
   "metadata": {},
   "outputs": [
    {
     "name": "stdout",
     "output_type": "stream",
     "text": [
      " MEAN of Macro :  56.993836666666674\n",
      " STD of Macro :  2.491474645550746\n",
      " MEAN of Weighted :  63.778769999999994\n",
      " STD of Weighted :  0.5338862480591442\n"
     ]
    }
   ],
   "source": [
    "f_w = [0.6319005,0.6366373,0.6448253]\n",
    "f_w_mean = np.mean(f_w)* 100\n",
    "f_w_std = np.std(f_w)* 100\n",
    "\n",
    "\n",
    "f_m = [0.5535521 ,0.5511179 ,0.6051451]\n",
    "f_m_mean = np.mean(f_m)* 100\n",
    "f_m_std = np.std(f_m)* 100\n",
    "\n",
    "print(\" MEAN of Macro : \", f_m_mean)\n",
    "print(\" STD of Macro : \", f_m_std)\n",
    "\n",
    "print(\" MEAN of Weighted : \", f_w_mean)\n",
    "print(\" STD of Weighted : \", f_w_std)\n",
    "\n"
   ]
  },
  {
   "cell_type": "markdown",
   "id": "2ac98f4f",
   "metadata": {},
   "source": [
    "### Daphnet"
   ]
  },
  {
   "cell_type": "code",
   "execution_count": 18,
   "id": "daa5c7d3",
   "metadata": {},
   "outputs": [
    {
     "name": "stdout",
     "output_type": "stream",
     "text": [
      " MEAN of Macro :  52.206996000000004\n",
      " STD of Macro :  2.326316625221941\n",
      " MEAN of Weighted :  82.10726999999999\n",
      " STD of Weighted :  1.1334813331502183\n"
     ]
    }
   ],
   "source": [
    "f_w = [0.8260364,0.8358772,0.8152883,0.8256425,0.8025191]\n",
    "f_w_mean = np.mean(f_w)* 100\n",
    "f_w_std = np.std(f_w)* 100\n",
    "\n",
    "\n",
    "f_m = [ 0.4831675,0.5558781,0.5196003,0.5285701,0.5231338  ]\n",
    "f_m_mean = np.mean(f_m)* 100\n",
    "f_m_std = np.std(f_m)* 100\n",
    "\n",
    "print(\" MEAN of Macro : \", f_m_mean)\n",
    "print(\" STD of Macro : \", f_m_std)\n",
    "\n",
    "print(\" MEAN of Weighted : \", f_w_mean)\n",
    "print(\" STD of Weighted : \", f_w_std)\n",
    "\n"
   ]
  },
  {
   "cell_type": "code",
   "execution_count": null,
   "id": "2df21e89",
   "metadata": {},
   "outputs": [],
   "source": []
  },
  {
   "cell_type": "code",
   "execution_count": null,
   "id": "1f435e4d",
   "metadata": {},
   "outputs": [],
   "source": []
  }
 ],
 "metadata": {
  "kernelspec": {
   "display_name": "Python 3",
   "language": "python",
   "name": "python3"
  },
  "language_info": {
   "codemirror_mode": {
    "name": "ipython",
    "version": 3
   },
   "file_extension": ".py",
   "mimetype": "text/x-python",
   "name": "python",
   "nbconvert_exporter": "python",
   "pygments_lexer": "ipython3",
   "version": "3.8.8"
  },
  "toc": {
   "base_numbering": 1,
   "nav_menu": {},
   "number_sections": true,
   "sideBar": true,
   "skip_h1_title": false,
   "title_cell": "Table of Contents",
   "title_sidebar": "Contents",
   "toc_cell": false,
   "toc_position": {},
   "toc_section_display": true,
   "toc_window_display": true
  }
 },
 "nbformat": 4,
 "nbformat_minor": 5
}
